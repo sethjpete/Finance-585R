{
 "cells": [
  {
   "cell_type": "markdown",
   "id": "53924b44",
   "metadata": {},
   "source": [
    "**FIN 585R**  \n",
    "**Diether**  \n",
    "**Double Sorting**<br><br>\n",
    "\n",
    "**Overview**\n",
    "\n",
    "+ Goal: How to create double-sort portfolios<br><br>\n",
    "\n",
    "+ Tool: Rely on a three-way groupby instead of a two-way grouupby.<br><br>\n",
    "\n",
    "+ Also cover some odds and ends about working with the CRSP data.<br><br>\n"
   ]
  },
  {
   "cell_type": "code",
   "execution_count": 7,
   "id": "991a12e3",
   "metadata": {},
   "outputs": [
    {
     "name": "stdout",
     "output_type": "stream",
     "text": [
      "Collecting pyarrow\n",
      "  Downloading pyarrow-11.0.0-cp39-cp39-macosx_10_14_x86_64.whl (24.5 MB)\n",
      "\u001b[2K     \u001b[90m━━━━━━━━━━━━━━━━━━━━━━━━━━━━━━━━━━━━━━━━\u001b[0m \u001b[32m24.5/24.5 MB\u001b[0m \u001b[31m7.8 MB/s\u001b[0m eta \u001b[36m0:00:00\u001b[0m00:01\u001b[0m00:01\u001b[0m\n",
      "\u001b[?25hRequirement already satisfied: numpy>=1.16.6 in /Users/sethjpete/opt/anaconda3/lib/python3.9/site-packages (from pyarrow) (1.21.5)\n",
      "Installing collected packages: pyarrow\n",
      "Successfully installed pyarrow-11.0.0\n",
      "Note: you may need to restart the kernel to use updated packages.\n"
     ]
    }
   ],
   "source": [
    "import numpy as np\n",
    "import pandas as pd\n",
    "from finance_byu.summarize import summary"
   ]
  },
  {
   "cell_type": "markdown",
   "id": "55a54211",
   "metadata": {},
   "source": [
    "**Raw CRSP Data**\n",
    "\n",
    "+ This is raw CRSP data in the feather format.<br><br>\n",
    "\n",
    "+ The feather format can be read by pandas very quickly. It's a great format for large datasets.<br><br>\n",
    "\n",
    "+ Raw CRSP data contains negative prices. CRSP reports a negative price if the price is a quote from a market market rather than an actual transaction prices.<br><br>\n",
    "\n",
    "+ Typically researchers don't care about this distinction so just take the absolute value of price.<br><br>\n"
   ]
  },
  {
   "cell_type": "code",
   "execution_count": 8,
   "id": "9c25f4f5",
   "metadata": {},
   "outputs": [
    {
     "name": "stdout",
     "output_type": "stream",
     "text": [
      "<class 'pandas.core.frame.DataFrame'>\n",
      "RangeIndex: 4834887 entries, 0 to 4834886\n",
      "Data columns (total 12 columns):\n",
      " #   Column     Dtype         \n",
      "---  ------     -----         \n",
      " 0   permno     int64         \n",
      " 1   caldt      datetime64[ns]\n",
      " 2   cusip      object        \n",
      " 3   ticker     object        \n",
      " 4   shrcd      int64         \n",
      " 5   excd       int64         \n",
      " 6   siccd      int64         \n",
      " 7   prc        float64       \n",
      " 8   ret        float64       \n",
      " 9   vol        float64       \n",
      " 10  shr        float64       \n",
      " 11  cumfacshr  float64       \n",
      "dtypes: datetime64[ns](1), float64(5), int64(4), object(2)\n",
      "memory usage: 442.6+ MB\n"
     ]
    }
   ],
   "source": [
    "df = pd.read_feather('12-mstk.ftr')\n",
    "df.info()"
   ]
  },
  {
   "cell_type": "code",
   "execution_count": null,
   "id": "c9b2b78f",
   "metadata": {},
   "outputs": [],
   "source": [
    "df[['prc','ret']].describe().round(3)"
   ]
  },
  {
   "cell_type": "code",
   "execution_count": null,
   "id": "c6f5dbc0",
   "metadata": {},
   "outputs": [],
   "source": [
    "df[['prc','ret']].quantile([0.05,0.1,0.15,0.20])"
   ]
  },
  {
   "cell_type": "code",
   "execution_count": null,
   "id": "a186cbec",
   "metadata": {},
   "outputs": [],
   "source": [
    "df['prc'] = df['prc'].abs()\n",
    "df['me']  = df.eval(\"prc*shr/1000.0\").where(df.eval(\"prc*shr > 1e-6\"))\n",
    "\n",
    "df[['prc','ret','me']].quantile([0.05,0.1,0.15,0.20])"
   ]
  },
  {
   "cell_type": "markdown",
   "id": "19eb228f",
   "metadata": {},
   "source": [
    "<br>\n",
    "\n",
    "**Extension: Double Sorting Prep**\n",
    "\n",
    "+ Sometimes you'll want to form portfolios based on two variables.<br><br>\n",
    "\n",
    "+ We will form based on lagged market-cap and momentum.<br><br>\n",
    "\n",
    "+ Need bins for both portfolio formation variables: momentum and market-cap.<br><br>\n",
    "\n",
    "+ Let's use NYSE breakpoints for market-cap.<br><br>\n",
    "\n",
    "+ We bin before splitting the sample so that the momentum breakpoints will be the same for the small and large-cap stratification.<br><br> \n",
    "\n",
    "+ Called independent double sorting. $\\leftarrow$ Fama French (1992)<br><br>\n",
    "\n",
    "+ Independent sorts make the comparisons across portfolio grouping more useful because the variation in momentum will be roughly the same across the portfolio groupings.<br><br>"
   ]
  },
  {
   "cell_type": "code",
   "execution_count": null,
   "id": "e546c096",
   "metadata": {},
   "outputs": [],
   "source": [
    "df['prclag'] = df.groupby('permno')['prc'].shift(1)\n",
    "df['melag'] = df.groupby('permno')['me'].shift(1)\n",
    "\n",
    "df['logret'] = df.eval(\"log(1+ret)\")\n",
    "df['mom'] = df.groupby('permno')['logret'].rolling(11).sum().reset_index(drop=True)\n",
    "df['mom'] = df.groupby('permno')['mom'].shift(2)"
   ]
  },
  {
   "cell_type": "markdown",
   "id": "151d2e2c",
   "metadata": {},
   "source": [
    "**NYSE Breakpoint Function**"
   ]
  },
  {
   "cell_type": "code",
   "execution_count": null,
   "id": "07f81aca",
   "metadata": {},
   "outputs": [],
   "source": [
    "def nyse_qcut(x,bp=[0.3,0.7]):\n",
    "    bins = x.query(\"excd == 1\")['melag'].quantile(bp).searchsorted(x['melag'])\n",
    "    return pd.DataFrame(bins,index=x.index)"
   ]
  },
  {
   "cell_type": "code",
   "execution_count": null,
   "id": "e932ecd9",
   "metadata": {},
   "outputs": [],
   "source": [
    "df = df.query(\"mom == mom and melag == melag\").reset_index(drop=True)\n",
    "\n",
    "df['bins'] = df.groupby('caldt')['mom'].transform(pd.qcut,5,labels=False)\n",
    "\n",
    "df['mebins'] = df.groupby('caldt')[['excd','melag']].apply(nyse_qcut)\n",
    "df.head()"
   ]
  },
  {
   "cell_type": "code",
   "execution_count": null,
   "id": "b1210cdf",
   "metadata": {},
   "outputs": [],
   "source": [
    "df = df.query(\"prclag >= 5\").reset_index(drop=True)"
   ]
  },
  {
   "cell_type": "code",
   "execution_count": null,
   "id": "47cfa4c5",
   "metadata": {},
   "outputs": [],
   "source": [
    "port = df.groupby(['caldt','mebins','bins'])['ret'].mean()*100\n",
    "port"
   ]
  },
  {
   "cell_type": "code",
   "execution_count": null,
   "id": "d9b70022",
   "metadata": {},
   "outputs": [],
   "source": [
    "port = port.unstack(level='bins')\n",
    "port"
   ]
  },
  {
   "cell_type": "code",
   "execution_count": null,
   "id": "d1770b68",
   "metadata": {},
   "outputs": [],
   "source": [
    "port.query(\"mebins == 0\")"
   ]
  },
  {
   "cell_type": "code",
   "execution_count": null,
   "id": "dd37fc71",
   "metadata": {},
   "outputs": [],
   "source": [
    "port = df.groupby(['caldt','mebins','bins'])['ret'].mean()*100\n",
    "port = port.unstack(level=['mebins','bins'])\n",
    "port"
   ]
  },
  {
   "cell_type": "code",
   "execution_count": null,
   "id": "5406052e",
   "metadata": {},
   "outputs": [],
   "source": [
    "summary(port).loc[['mean','std','tstat']].round(3)"
   ]
  },
  {
   "cell_type": "code",
   "execution_count": null,
   "id": "0eda71da",
   "metadata": {},
   "outputs": [],
   "source": []
  }
 ],
 "metadata": {
  "kernelspec": {
   "display_name": "Python 3 (ipykernel)",
   "language": "python",
   "name": "python3"
  },
  "language_info": {
   "codemirror_mode": {
    "name": "ipython",
    "version": 3
   },
   "file_extension": ".py",
   "mimetype": "text/x-python",
   "name": "python",
   "nbconvert_exporter": "python",
   "pygments_lexer": "ipython3",
   "version": "3.9.16"
  }
 },
 "nbformat": 4,
 "nbformat_minor": 5
}
