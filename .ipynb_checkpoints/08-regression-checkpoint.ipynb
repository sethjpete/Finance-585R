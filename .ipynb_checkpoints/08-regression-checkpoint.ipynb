{
 "cells": [
  {
   "cell_type": "markdown",
   "metadata": {},
   "source": [
    "**Fin 585R**  \n",
    "**Diether**  \n",
    "**Regression/Estimating Linear Models** \n",
    "\n",
    "**Overview**\n",
    "\n",
    "The purpose of this notebook is to introduce how to estimate linear regressions using the Python Data Analysis library. In this class, we will primarily rely on the `statsmodels` library to estimate regression models.\n",
    "\n",
    "To introduce estimating regression models using Pandas/statsmodels I am going to use the short-selling data we used in your first portfolio assignment. Remember, the data are monthly stock data for all stocks in the U.S. with non-missing loan fee data. The basic unit of observation is the stock month. You can download the data directly using the following link: [the data](http://diether.org/prephd/03-mstk_short_02-12.csv). The data contain the following variables:\n",
    "\n",
    "|Variable | Description                                       |\n",
    "|---------|---------------------------------------------------|\n",
    "|permno   | stock identifier                                  |\n",
    "|caldt    | calendar date                                     |\n",
    "|ret      | monthly return                                    |\n",
    "|prclag   | stock price, lagged                               |   \n",
    "|melag    | market equity, lagged                             |\n",
    "|feelag   | the loan fee expressed a percent per anum, lagged |\n",
    "\n",
    "Remember, feelag represent the cost of shorting.\n",
    "\n",
    "You should look over this notebook on you own. If you have questions please bring them up in class.\n",
    "\n",
    "**I. Importing the statsmodel library**"
   ]
  },
  {
   "cell_type": "code",
   "execution_count": null,
   "metadata": {},
   "outputs": [],
   "source": [
    "import numpy as np\n",
    "import pandas as pd\n",
    "import statsmodels.formula.api as smf"
   ]
  },
  {
   "cell_type": "markdown",
   "metadata": {},
   "source": [
    "**II. Read in the data and create a `dataframe`**\n",
    "\n",
    "I am going to read in the data, multiple returns by 100 (so they represent percent per month), and create the port/binning variable from the homework using a different method. "
   ]
  },
  {
   "cell_type": "code",
   "execution_count": null,
   "metadata": {},
   "outputs": [],
   "source": [
    "df = pd.read_csv(\"https://diether.org/prephd/03-mstk_short_02-12.csv\",parse_dates=['caldt'])\n",
    "df['ret'] = df['ret']*100\n",
    "\n",
    "df['port'] = 'low'\n",
    "df.loc[(df.feelag >= 3) & (df.feelag < 5),'port'] = 'medium'\n",
    "df.loc[df.feelag >= 5,'port'] = 'high'\n",
    "df.head()"
   ]
  },
  {
   "cell_type": "markdown",
   "metadata": {},
   "source": [
    "**Estimating Regressions**\n",
    "\n",
    "Estimating linear models using regressions will be a bread and butter part of the course as we move forward. `Statsmodels` is our main regression analysis library in Python. It has a formula based interface with a syntax very similar to R. It's designed to work seamlessly with `pandas`' dataframes.\n",
    "\n",
    "**Estimating regressions using statsmodels and the patsy formula interface**\n",
    "\n",
    "First, let's do a simple pooled univariate linear regression using `ret` and `feelag`. So the model is the following:<br>\n",
    "\n",
    "$$\n",
    "ret_{it} = a + \\beta fee_{i,t-1} + \\epsilon_{it}\n",
    "$$\n",
    "\n",
    "Graphically, we are fitting a line through the following scatterplot:"
   ]
  },
  {
   "cell_type": "code",
   "execution_count": null,
   "metadata": {},
   "outputs": [],
   "source": [
    "df.plot.scatter(y='ret',x='feelag')"
   ]
  },
  {
   "cell_type": "markdown",
   "metadata": {},
   "source": [
    "Statsmodels include an ols function. The ols function requires two parameters (and you can use other optional parameters). The **first required parameter is a formula expressed as a string.** This formula interface may seem slightly strange the first time you see it, but it allows you to compactly express linear models. What does the formula string look like for the following regression?\n",
    "\n",
    "$$\n",
    "ret_{it} = a + \\beta fee_{i,t-1} + \\epsilon_{it}\n",
    "$$\n",
    "\n",
    "The formula string is the following:\n",
    "\n",
    "```python\n",
    "'ret ~ feelag'\n",
    "```\n",
    "\n",
    "A few notes on the formula interface:\n",
    "\n",
    "1. `~` is the equal sign in the formula interface. I think the idea behind the use of `~` is the `=` is used in so many other contexts for a programming languge. The use of `~` makes it obvious that we are writing formula for a model.<br><br>\n",
    "\n",
    "2. Model coefficients are implied. If we want to estimate the following regression we don't need to specify the $\\alpha$ and the $\\beta$ in our statsmodel formula (technically it's called a patsy formula ... that's the name of the formula library): <BR><br>\n",
    "$$\n",
    "ret_{it} = a + \\beta fee_{i,t-1} + \\epsilon_{it}\n",
    "$$ <br>\n",
    "The formula assumes it because an intercept and a slope coefficient are standard part of a univariate linear model.<br><br>\n",
    "\n",
    "3. This formula syntax comes from the R statistical programming language (well, really it comes from the S statistical language ... R started off as basically a reimplementation of that language).\n",
    "\n",
    "The **second required parameter is the dataframe** containing the data that will be used; the dataframe must contain both the dependent and indepent variables (with the exception that you can create new variables derived from the variables in the dataframe via the formula interface).<br><br>"
   ]
  },
  {
   "cell_type": "code",
   "execution_count": null,
   "metadata": {},
   "outputs": [],
   "source": [
    "reg0 = smf.ols('ret ~ feelag',data=df).fit()"
   ]
  },
  {
   "cell_type": "markdown",
   "metadata": {},
   "source": [
    "Note, the above function call to `smf.ols` and the `fit()` method estimates the regression and then creates a regression object. If I print out reg0, then I get the following:"
   ]
  },
  {
   "cell_type": "code",
   "execution_count": null,
   "metadata": {},
   "outputs": [],
   "source": [
    "reg0"
   ]
  },
  {
   "cell_type": "markdown",
   "metadata": {},
   "source": [
    "**Statsmodels Regression Object**\n",
    "\n",
    "It's just an object, and by default it doesn't report the results when we print it. A statsmodel regression object contains a lot of methods that allow you to access or report information from the regression but you have to call them explicitly.< We will probably use the `summary` method the most. The summary method outputs the results of the regression:"
   ]
  },
  {
   "cell_type": "code",
   "execution_count": null,
   "metadata": {},
   "outputs": [],
   "source": [
    "reg0.summary()"
   ]
  },
  {
   "cell_type": "markdown",
   "metadata": {},
   "source": [
    "<br>\n",
    "\n",
    "**Creating new variables via the formula interface**\n",
    "\n",
    "You can create new variables derived from the variables in the dataframe via the formula interface. For example, maybe you want to include lagged market-cap (`melag`) as a control variable but you also know that market-cap is pretty skewed (some stocks have very big market-caps). Therefore, you want to take the natural log of the variable. You don't need to create a new column with the natural log of `melag` in your dataframe. Instead, you can create it in the formula string itself. So let's estimate the following regression and create the independent variable we need in the formula string:\n",
    "\n",
    "$$\n",
    "ret_{it} = a + \\beta_1 fee_{i,t-1} + \\beta_2 log(me_{i,t-1}) +  \\epsilon_{it}\n",
    "$$"
   ]
  },
  {
   "cell_type": "code",
   "execution_count": null,
   "metadata": {},
   "outputs": [],
   "source": [
    "reg1 = smf.ols('ret ~ feelag + np.log(melag)',data=df).fit()\n",
    "reg1.summary()"
   ]
  },
  {
   "cell_type": "markdown",
   "metadata": {},
   "source": [
    "**Creating dummy variables and interaction terms via the formula interface**\n",
    "\n",
    "One nice feature of the formula interface is it includes a special function for creating dummy variables/categorial variables. The function is called `C` (\\leftarrow$ short for Categorical). In the homework you created a `port` variable that breaks feelag into low, median, and high categories. I recreated that variable at the beginning of the notebook. Let's create a model that uses those categories as dummy variables instead of using feelag<br>\n",
    "\n",
    "$$\n",
    "ret_{it} = a + \\beta_1\\bigl(3 < fee_{i,t-1} <= 5\\bigr) + \\beta_2\\bigl(fee_{i,t-1} > 5\\bigr) +  \\beta_3 log(me_{i,t-1}) + \\epsilon_{i}\n",
    "$$\n",
    "\n",
    "<br>"
   ]
  },
  {
   "cell_type": "code",
   "execution_count": null,
   "metadata": {},
   "outputs": [],
   "source": [
    "reg2 = smf.ols('ret ~ C(port) + np.log(melag)',data=df).fit()\n",
    "reg2.summary()"
   ]
  },
  {
   "cell_type": "markdown",
   "metadata": {},
   "source": [
    "<br>\n",
    "\n",
    "**More on the \"C\" Function**\n",
    "\n",
    "The Categorical function is quite handy. If there are more then two categories, it will automatically create dummy variables for each group and then omit one of the categories (it omits a category to avoid linear dependence between the sum of the dummies and the intercept). Note, it didn't precisely do what I wanted in the formula. The high group is the omitted category (the high group is the intercept).\n",
    "\n",
    "I can explicitly create the dummy variables in the patsy formula string. Suppose I want to estimate the following model:\n",
    "\n",
    "$$\n",
    "ret_{it} = a + \\beta_1\\bigl(fee_{i,t-1} > 5\\bigr) +  \\beta_2 log(me_{i,t-1}) + \\epsilon_{i}\n",
    "$$\n",
    "\n",
    "<br>"
   ]
  },
  {
   "cell_type": "code",
   "execution_count": null,
   "metadata": {},
   "outputs": [],
   "source": [
    "reg3 = smf.ols('ret ~ feelag > 5 + np.log(melag)',data=df).fit()\n",
    "reg3.summary()"
   ]
  },
  {
   "cell_type": "markdown",
   "metadata": {},
   "source": [
    "<br>\n",
    "\n",
    "**Interaction Teerms in the Formula Interface**\n",
    "\n",
    "You can also specify interaction terms in a formula string:<br><br>"
   ]
  },
  {
   "cell_type": "code",
   "execution_count": null,
   "metadata": {},
   "outputs": [],
   "source": [
    "reg4 = smf.ols('ret ~ feelag > 5 + np.log(melag) + np.log(melag)*(feelag > 5) ',data=df).fit()\n",
    "reg4.summary()"
   ]
  },
  {
   "cell_type": "markdown",
   "metadata": {},
   "source": [
    "<br>\n",
    "\n",
    "**Supressing the intercept**\n",
    "\n",
    "By default the formula string implicitly includes an intercept coefficient. Given that, how do we suppress estimation of an intercept term? A more explicit way to write down a linear regression model with an intercept term (using formula interface syntax) is to include an intercept data column. An intercept coefficent corresponds to a variable that is a column of all ones:<br><br>"
   ]
  },
  {
   "cell_type": "code",
   "execution_count": null,
   "metadata": {},
   "outputs": [],
   "source": [
    "reg5 = smf.ols('ret ~ 1 + +feelag + np.log(melag)',data=df).fit()\n",
    "reg5.summary()"
   ]
  },
  {
   "cell_type": "markdown",
   "metadata": {},
   "source": [
    "<br>\n",
    "\n",
    "The suppression of the intercept in the formula string comes from the idea that a regression doesn't estimate an intercept if we get rid of the column of ones in the independent variable matrix. Based on that idea, `statsmodels` (and once again, this comes from the `R` world) allows you to suppress the intercept by putting '-1' in the formula:<br><br>"
   ]
  },
  {
   "cell_type": "code",
   "execution_count": null,
   "metadata": {},
   "outputs": [],
   "source": [
    "reg5 = smf.ols('ret ~ -1 + feelag + np.log(melag)',data=df).fit()\n",
    "reg5.summary()"
   ]
  },
  {
   "cell_type": "markdown",
   "metadata": {},
   "source": [
    "**Supressing the Intercept and \"C\" Function**\n",
    "\n",
    "If you suppress the intercept in formula string, the Categorical function will include all the potential dummy variable columns in the regression instead of omitting one category:<br><br>"
   ]
  },
  {
   "cell_type": "code",
   "execution_count": null,
   "metadata": {},
   "outputs": [],
   "source": [
    "reg6 = smf.ols('ret ~ -1 + C(port) + np.log(melag)',data=df).fit()\n",
    "reg6.summary()"
   ]
  },
  {
   "cell_type": "markdown",
   "metadata": {},
   "source": [
    "**Creating a Table of Regressions Results**\n",
    "\n",
    "**The Regtable function**\n",
    "\n",
    "The BYU Fin 585R Library includes a function called `Regtable` that allows you to display regression results in a table. In the academic literature for economics its standard to stack regressions where each column represents a seperate regression.\n",
    "\n",
    "[Regtable documentation](https://fin-library.readthedocs.io/en/latest/regtables.html)\n",
    "\n",
    "Note, the primary parameter for Regtable is a `list` of regression objects.<br><br>"
   ]
  },
  {
   "cell_type": "code",
   "execution_count": null,
   "metadata": {},
   "outputs": [],
   "source": [
    "from finance_byu.regtables import Regtable\n",
    "\n",
    "tbl = Regtable([reg0,reg1,reg2,reg3,reg4],stat='tstat',sig='coeff')\n",
    "tbl.render()"
   ]
  },
  {
   "cell_type": "code",
   "execution_count": null,
   "metadata": {},
   "outputs": [],
   "source": [
    "tbl = Regtable([reg0,reg1,reg2,reg3,reg4,reg5,reg6],stat='tstat',sig='coeff')\n",
    "tbl.render()"
   ]
  },
  {
   "cell_type": "code",
   "execution_count": null,
   "metadata": {},
   "outputs": [],
   "source": []
  }
 ],
 "metadata": {
  "kernelspec": {
   "display_name": "Python 3 (ipykernel)",
   "language": "python",
   "name": "python3"
  },
  "language_info": {
   "codemirror_mode": {
    "name": "ipython",
    "version": 3
   },
   "file_extension": ".py",
   "mimetype": "text/x-python",
   "name": "python",
   "nbconvert_exporter": "python",
   "pygments_lexer": "ipython3",
   "version": "3.9.12"
  }
 },
 "nbformat": 4,
 "nbformat_minor": 1
}
