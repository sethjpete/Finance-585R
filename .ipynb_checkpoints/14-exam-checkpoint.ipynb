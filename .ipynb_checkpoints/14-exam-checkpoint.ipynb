{
 "cells": [
  {
   "cell_type": "markdown",
   "metadata": {},
   "source": [
    "**Fin 585R**  \n",
    "**Diether**  \n",
    "**Winter 2023**  \n",
    "**Diether Exam: Empirical**  \n",
    "<br>\n",
    "\n",
    "**Overview**\n",
    "\n",
    "For the empirical part of the exam, you revisit the short-selling data you used in one of you early programming assignments. First, you need to create lagged loan fee based portfolios and test the Fama French three factor models using these portfolios. Second, you will create double sort portfolios formed on lagged loan fee and on past analyst disperion (where analyst dispersion is measured as in Diether, Malloy, and  Scherbina (2002)). In this exam, you will form the analyst dispersion bins based on average dispersion from the past two months.\n",
    "\n",
    "You are allowed to use the Fin 585 library on this exam. **This portion of the exam is open course materials.** Of course, everything must be your own work; you cannot collaborate or work with anyone.\n",
    "\n",
    "The exam is due on Saturday, March 4 at 11:59 PM. The exam should be turned in via Learning Suite.\n",
    "<br><br> \n",
    "\n",
    "**Review: Short Selling Background**\n",
    "\n",
    "When someone shorts a stock, they profit if the stock goes down instead of going up, but short-selling transactions are more complicated than going long (buying a stock and then later selling it).  There are four basic steps to short selling:<br><br>\n",
    "\n",
    "1. *The short seller borrows the desired number of shares from someone.* This is usually done by the broker who locates the shares and the broker becomes the middleman for the short seller and the lender (note, the broker is often both the middleman and the lender). The lender expects to be paid interest on the loan which is the main cost of shorting. The loan is callable by the lender at any time. The short seller can repay the loan at any time. <br><br>\n",
    "\n",
    "2. *The short seller sells the shares.* The proceeds are put into an interest-bearing account called the collateral account. Most lenders require the collateral account to contain 102% of the value of the proceeds.  The collateral account usually invests in low risk, short term securities. When the short seller borrows the stock there are lending fees; the short seller pays interest on the loan. Typically, the interest rate is small. The overall interest rate earned on the collateral account is split between the lender and the short seller. The portion of the interest rate received by the short seller is called the rebate rate. The **loan fee** is the portion paid the lender, and is equivalent to the interest rate the short seller pays on the loan. Therefore, the **loan fee** is the main direct cost of shorting. There can be a zero or negative rebate rate; a negative rebate rate corresponds to a situation where the lender receives all the interest in the collateral account and the short sellers pays additional interest out of her pocket to the lender.<br><br>\n",
    "\n",
    "3. *Pay any dividends while the loan is open.* The short seller must pay to the lender the cash equivalent of any dividends paid out on the stock. <br><br>\n",
    "\n",
    "4. *Buy the shares back.* The short sellers profits are the following:\n",
    "\n",
    "$$\n",
    "    Profit = Sell - Buy -(Interest \\ Paid)\n",
    "$$ <br><br>\n",
    "  \n",
    " \n",
    "**Data**\n",
    "\n",
    "The are two main datasets for this exam. The first is the monthly CRSP data augmented with short-selling fees. Note, it's not exactly the same as the data in the first homework (e.g., no variables have been lagged for you). The data are monthly stock data for all stocks in the U.S. from May of 2002 to August of 2012. The basic unit of observation is the stock-month. You can download the data directly using the following link: [the data](https://diether.org/prephd/14-mstk_short.csv). There is also a link on *Learning Suite*. The data contain the following variables:\n",
    "\n",
    "|Variable | Description                                       |\n",
    "|---------|---------------------------------------------------|\n",
    "|permno   | stock identifier                                  |\n",
    "|caldt    | calendar date                                     |\n",
    "|cusip    | another stock identifier                           \n",
    "|mdt      | calendar date unique at the year-month level      |\n",
    "|ret      | monthly return                                    |\n",
    "|prc      | stock price                                       |   \n",
    "|me       | market equity                                     |\n",
    "|fee      | the loan fee expressed a percent per anum         |\n",
    "|shrcd    | CRSP share code                                   |\n",
    "\n",
    "<br>\n",
    "\n",
    "Note, if the loan fee is negative, it is a data error. \n",
    "\n",
    "The second primary data source is from I/B/E/S. It contains monthly observations for variables related to analyst earnings per share forecasts.\n",
    "\n",
    "|Variable | Description                                              |\n",
    "|---------|----------------------------------------------------------|\n",
    "|cusip    | stock identifier for the I/B/E/S data                    |\n",
    "|mdt      | calendar date unique at the year-month level             |\n",
    "|disp     | month end analyst dispersion as defined in DMS (2002)    |\n",
    "|numest   | number of analyst forecasts used to compute disp         |\n",
    "\n",
    "<br>\n",
    "\n",
    "Just like in the CRSP data, `mdt` reports the date as if its from the first day of a month, but the observations are actually observations from the end of the trading month. So `disp` for `cusip = '39040610'` and `caldt = '1990-04-01'` is analyst dispersion (as computed in DMS (2002) as of the last trading day in April 1990. You can download the data from the following link: [Monthly I/B/E/S data](https://diether.org/prephd/14-ibes.csv).<br><br>\n",
    "\n",
    "\n",
    "**Tasks and Questions**  \n",
    "\n",
    "1. Construct three equal-weight portfolios using lagged fee as a the criterion variable. Portfolio 0: an equal-weight portfolio the includes all stocks with lagged fee less than or equal to 1% (loan fees are expressed as the interest rate per anum). Portfolio 1: an equal-weight portfolio the includes all stocks with lagged fee greater than 1% and less than or equal to 4%. Portfolio 2: an equal-weight portfolio the includes stocks with lagged fee greater than 4%. Make your portfolio sample period be January 2003 to July 2012. Also, include a spread portfolio in your summary statistics (including a t-test of whether the average return is statistically different from zero for each portfolio).<br><br>\n",
    "\n",
    "2. Test whether the four factor model holds with respect to the lagged loan fee portfolios formed in question #1. You should summarize your regressions results in one table. Explain what you can infer about validity of the three factor model based on these regression results. You can download the factors from the following link: [Factor Data](https://diether.org/prephd/14-factors.csv)<br><br>\n",
    "\n",
    "3. What do the factor loadings from the four factor model regression about portfolio 2 (high lagged loan fee portfolio) tell you about the characteristics (small-cap/large cap,value/growth, etc) of the stocks in the high loan fee portfolio. Explain.<br><br>\n",
    "\n",
    "4. Form portfolios double sorted on lagged loan fee and average analyst dispersion from the previous two months. You should use independent sorts to create these double sort portfolios (as in Fama and French (1992)). The analyst dispersion breakpoints should be *terciles* (A set of data arranged in order with values that partition the data into three groups, each containing one-third of the total data.). For the loan fees use the three portfolio categories you created in question #1. Therefore, your program should create **9 portfolios**. Report summary statistics for your portfolios (including a t-test of whether the average return is statistically different from zero for each portfolio). Make your portfolio sample period be January 2003 to July 2012. Note, some of your portfolios may contain a few missing values. Don't worry about them. The regression estimation in the next questions should work just fine.<br><br>\n",
    "\n",
    "5. Test whether the *four* factor model holds with respect to the double sort portfolios in question #3. You should summarize your regressions results in one table. Explain what you can infer about validity of the four factor model based on these regression results. <br><br>\n",
    "\n",
    "6. Do you think Questions #4 and #5 represent a good test of the Miller (1997) model? Explain why or why not? If yes, are the results in questions #4 and #5 consistent with the Miller model?<br><br>\n",
    "\n",
    "7. DMS's (2003) best test of the Miller model is when they create portfolios double sorted on size (lagged market-cap) and analyst dispersion. Give one reason why double sort portfolios formed on loan fees and analyst dispersion may represent a superior test than double sort portfolios formed on size and analyst dispersion, and one reason it may represent an inferior test.<br><br>"
   ]
  },
  {
   "cell_type": "code",
   "execution_count": 1,
   "metadata": {},
   "outputs": [],
   "source": [
    "import pandas as pd\n",
    "import numpy as np"
   ]
  },
  {
   "cell_type": "code",
   "execution_count": 2,
   "metadata": {},
   "outputs": [],
   "source": [
    "df = pd.read_csv(\"14-mstk_short.csv\",parse_dates=['caldt','mdt'])\n",
    "ibes = pd.read_csv(\"14-ibes.csv\",parse_dates=['mdt'])"
   ]
  },
  {
   "cell_type": "code",
   "execution_count": null,
   "metadata": {},
   "outputs": [],
   "source": []
  }
 ],
 "metadata": {
  "kernelspec": {
   "display_name": "Python 3 (ipykernel)",
   "language": "python",
   "name": "python3"
  },
  "language_info": {
   "codemirror_mode": {
    "name": "ipython",
    "version": 3
   },
   "file_extension": ".py",
   "mimetype": "text/x-python",
   "name": "python",
   "nbconvert_exporter": "python",
   "pygments_lexer": "ipython3",
   "version": "3.9.16"
  }
 },
 "nbformat": 4,
 "nbformat_minor": 4
}
