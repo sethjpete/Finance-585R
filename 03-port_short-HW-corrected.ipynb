{
 "cells": [
  {
   "cell_type": "markdown",
   "metadata": {},
   "source": [
    "**Fin 585R**  \n",
    "**Diether**  \n",
    "**Problem Set**  \n",
    "**Introduction to Portfolios**  \n",
    "**Application: Short Selling**\n",
    "\n",
    "**Overview**\n",
    "\n",
    "This problem set is designed to introduce you to portfolio construction using a real portfolio application from the Finance literature. This assignment builds on the concepts and code I introduced last time in class. I think you'll find the Intro to Portfolios' Jupyter notebook helpful for this assignment.\n",
    "\n",
    "\n",
    "**Short Selling Background**\n",
    "\n",
    "When someone shorts a stock, they profit if the price of the stock goes down instead of going up, but short-selling transactions are more complicated than going long (buying a stock and then later selling it).  There are four basic steps to short selling:<br>\n",
    "\n",
    "1. *The short seller borrows the desired number of shares from someone.* This is usually done by the broker who locates the shares and the broker becomes the middleman for the short seller and the lender (note, the broker is often both the middleman and the lender). The lender expects to be paid interest on the loan which is the main cost of shorting. The loan is callable by the lender at any time. The short seller can repay the loan at any time. <br><br>\n",
    "\n",
    "2. *The short seller sells the shares.* The proceeds are put into an interest-bearing account called the collateral account. Most lenders require the collateral account to contain 102% of the value of the proceeds.  The collateral account usually invests in low risk, short term securities (e.g., Treasury bills). When the short seller borrows the stock there are lending fees; the short seller pays interest on the loan. Typically, the interest rate is small. The overall interest rate earned on the collateral account is split between the lender and the short seller. The portion of the interest rate received by the short seller is called the rebate rate. The **loan fee** is the portion paid the lender, and is equivalent to the interest rate the short seller pays on the loan. Therefore, the **loan fee** is the main direct cost of shorting. There can be a zero or negative rebate rate; a negative rebate rate corresponds to a situation where the lender receives all the interest in the collateral account and the short sellers pays additional interest out of her pocket to the lender.<br><br>\n",
    "\n",
    "3. *Pay any dividends while the loan is open.* The short seller must pay to the lender the cash equivalent of any dividends paid out on the stock. If you short Apple, and Apple pays a 2 dollar dividend per share during the time you short the stock, then you owe the lender 2 dollars for every share you shorted. <br><br>\n",
    "\n",
    "4. *Buy the shares back.* The short sellers profits are the following:\n",
    "\n",
    "$$\n",
    "Profit = Sell - Buy -(Interest \\ Paid)\n",
    "$$ <br> \n",
    "  \n",
    "The Finance literature has been interested in whether short sellers have good information. Do short sellers typically make money when the short? If loan fees are high, then short sellers are paying a high price to short (bet that the stock will perform poorly). Therefore, if short sellers are paying a lot to short, it likely represents times when short sellers have good information. \n",
    "\n",
    "In this problem set you create portfolios based on lagged loan fee to test the preceding hypothesis. Remember, the returns in the data are from going long (buying and then selling the stock). Your portfolios will reflect that fact. If the returns are really low or negative for a portfolio, then that means the short sellers are experiencing high returns.\n",
    "\n",
    "\n",
    "**Data**\n",
    "\n",
    "The data are monthly stock data for all stocks in the U.S. with non-missing loan fee data. The basic unit of observation is the stock month. You can download the data directly using the following link: [the data](http://diether.org/prephd/03-mstk_short_02-12.csv). There is also a link on *Learning Suite*. The data contain the following variables:\n",
    "\n",
    "|Variable | Description                                       |\n",
    "|---------|---------------------------------------------------|\n",
    "|permno   | stock identifier                                  |\n",
    "|caldt    | calendar date                                     |\n",
    "|ret      | monthly return                                    |\n",
    "|prclag   | stock price, lagged                               |   \n",
    "|melag    | market equity, lagged                             |\n",
    "|feelag   | the loan fee expressed a percent per anum, lagged |\n",
    "\n",
    "**Tasks and Questions**  \n",
    "\n",
    "1. What is the sample period of this data?<br><br>\n",
    "\n",
    "2. There are some observations where `feelag` is less than zero. These are data errors. Remove these observation from the dataframe and then compute the summary statistics for `feelag`.<br><br>\n",
    "\n",
    "3. Output the median and 90th percentile of `feelag` for every month. This can be done in seperate commands. <br><br>\n",
    "\n",
    "4. Construct three equal-weight portfolios using `feelag` a the criterion variable. Portfolio 0: an equal-weight portfolio the includes all stocks with `feelag` less than or equal to 3% (loan fee are express as the interest rate per anum). Portfolio 1: an equal-weight portfolio the includes all stocks with `feelag` greater than 3% and less than or eqal to 5%. Portfolio 2: an equal-weight portfolio the includes stocks with `feelag` greater than 5% (loan fee are express as the interest rate per anum). Hint: use the pd.cut to bin the data and use my Jupyter notebook from last class as a guide.<br><br>\n",
    "\n",
    "5. Compute summary statistics for each of the portfolios you created including the mean, standard deviation, and t-statistics testing of the mean return of the portfolio is zero.<br><br>\n",
    "\n",
    "5. Are your results consistent with the hypothesis that short sellers have good information?"
   ]
  },
  {
   "cell_type": "code",
   "execution_count": 2,
   "metadata": {},
   "outputs": [],
   "source": [
    "import pandas as pd\n",
    "import numpy as np\n",
    "from finance_byu.summarize import summary"
   ]
  },
  {
   "cell_type": "code",
   "execution_count": 3,
   "metadata": {},
   "outputs": [
    {
     "data": {
      "text/html": [
       "<div>\n",
       "<style scoped>\n",
       "    .dataframe tbody tr th:only-of-type {\n",
       "        vertical-align: middle;\n",
       "    }\n",
       "\n",
       "    .dataframe tbody tr th {\n",
       "        vertical-align: top;\n",
       "    }\n",
       "\n",
       "    .dataframe thead th {\n",
       "        text-align: right;\n",
       "    }\n",
       "</style>\n",
       "<table border=\"1\" class=\"dataframe\">\n",
       "  <thead>\n",
       "    <tr style=\"text-align: right;\">\n",
       "      <th></th>\n",
       "      <th>permno</th>\n",
       "      <th>caldt</th>\n",
       "      <th>ret</th>\n",
       "      <th>prclag</th>\n",
       "      <th>melag</th>\n",
       "      <th>feelag</th>\n",
       "    </tr>\n",
       "  </thead>\n",
       "  <tbody>\n",
       "    <tr>\n",
       "      <th>0</th>\n",
       "      <td>10001</td>\n",
       "      <td>2005-06-30</td>\n",
       "      <td>0.128430</td>\n",
       "      <td>8.02</td>\n",
       "      <td>21.053</td>\n",
       "      <td>0.15000</td>\n",
       "    </tr>\n",
       "    <tr>\n",
       "      <th>1</th>\n",
       "      <td>10001</td>\n",
       "      <td>2005-07-29</td>\n",
       "      <td>0.009945</td>\n",
       "      <td>9.05</td>\n",
       "      <td>26.363</td>\n",
       "      <td>0.32701</td>\n",
       "    </tr>\n",
       "    <tr>\n",
       "      <th>2</th>\n",
       "      <td>10001</td>\n",
       "      <td>2005-08-31</td>\n",
       "      <td>0.039387</td>\n",
       "      <td>9.14</td>\n",
       "      <td>26.625</td>\n",
       "      <td>0.15000</td>\n",
       "    </tr>\n",
       "    <tr>\n",
       "      <th>3</th>\n",
       "      <td>10001</td>\n",
       "      <td>2005-10-31</td>\n",
       "      <td>-0.119040</td>\n",
       "      <td>11.51</td>\n",
       "      <td>33.529</td>\n",
       "      <td>0.16250</td>\n",
       "    </tr>\n",
       "    <tr>\n",
       "      <th>4</th>\n",
       "      <td>10001</td>\n",
       "      <td>2005-11-30</td>\n",
       "      <td>-0.059397</td>\n",
       "      <td>10.10</td>\n",
       "      <td>29.421</td>\n",
       "      <td>0.15000</td>\n",
       "    </tr>\n",
       "  </tbody>\n",
       "</table>\n",
       "</div>"
      ],
      "text/plain": [
       "   permno      caldt       ret  prclag   melag   feelag\n",
       "0   10001 2005-06-30  0.128430    8.02  21.053  0.15000\n",
       "1   10001 2005-07-29  0.009945    9.05  26.363  0.32701\n",
       "2   10001 2005-08-31  0.039387    9.14  26.625  0.15000\n",
       "3   10001 2005-10-31 -0.119040   11.51  33.529  0.16250\n",
       "4   10001 2005-11-30 -0.059397   10.10  29.421  0.15000"
      ]
     },
     "execution_count": 3,
     "metadata": {},
     "output_type": "execute_result"
    }
   ],
   "source": [
    "df = pd.read_csv(\"03-mstk_short_02-12.csv\",parse_dates=['caldt'])\n",
    "df.head()"
   ]
  },
  {
   "cell_type": "markdown",
   "metadata": {},
   "source": [
    "What is the sample period of this data?"
   ]
  },
  {
   "cell_type": "code",
   "execution_count": 4,
   "metadata": {
    "scrolled": true
   },
   "outputs": [
    {
     "data": {
      "text/plain": [
       "min    2002-06-28 00:00:00\n",
       "max    2012-07-31 00:00:00\n",
       "Name: caldt, dtype: object"
      ]
     },
     "execution_count": 4,
     "metadata": {},
     "output_type": "execute_result"
    }
   ],
   "source": [
    "df.caldt.describe(datetime_is_numeric=True)[[\"min\", \"max\"]]"
   ]
  },
  {
   "cell_type": "markdown",
   "metadata": {},
   "source": [
    "**Corrected**:\n",
    "`df['caldt'].min()`"
   ]
  },
  {
   "cell_type": "markdown",
   "metadata": {},
   "source": [
    "There are some observations where feelag is less than zero. These are data errors. Remove these observation from the dataframe and then compute the summary statistics for feelag."
   ]
  },
  {
   "cell_type": "code",
   "execution_count": 5,
   "metadata": {
    "scrolled": true
   },
   "outputs": [
    {
     "data": {
      "text/plain": [
       "count    419500.000000\n",
       "mean          1.030662\n",
       "std           3.764338\n",
       "min           0.000000\n",
       "25%           0.095028\n",
       "50%           0.150000\n",
       "75%           0.361825\n",
       "max          98.180000\n",
       "Name: feelag, dtype: float64"
      ]
     },
     "execution_count": 5,
     "metadata": {},
     "output_type": "execute_result"
    }
   ],
   "source": [
    "df = df.query(\"feelag >= 0\").reset_index(drop = True)\n",
    "# Probably not appropriate to use summary() here..?\n",
    "df[\"feelag\"].describe()"
   ]
  },
  {
   "cell_type": "markdown",
   "metadata": {},
   "source": [
    "**NOTE:** You pay .15% per year in order to short it; on average, these loan fees are VERY low"
   ]
  },
  {
   "cell_type": "markdown",
   "metadata": {},
   "source": [
    "Output the median and 90th percentile of feelag for every month. This can be done in seperate commands."
   ]
  },
  {
   "cell_type": "code",
   "execution_count": 6,
   "metadata": {},
   "outputs": [
    {
     "data": {
      "text/html": [
       "<div>\n",
       "<style scoped>\n",
       "    .dataframe tbody tr th:only-of-type {\n",
       "        vertical-align: middle;\n",
       "    }\n",
       "\n",
       "    .dataframe tbody tr th {\n",
       "        vertical-align: top;\n",
       "    }\n",
       "\n",
       "    .dataframe thead th {\n",
       "        text-align: right;\n",
       "    }\n",
       "</style>\n",
       "<table border=\"1\" class=\"dataframe\">\n",
       "  <thead>\n",
       "    <tr style=\"text-align: right;\">\n",
       "      <th></th>\n",
       "      <th>0.5</th>\n",
       "      <th>0.9</th>\n",
       "    </tr>\n",
       "    <tr>\n",
       "      <th>caldt</th>\n",
       "      <th></th>\n",
       "      <th></th>\n",
       "    </tr>\n",
       "  </thead>\n",
       "  <tbody>\n",
       "    <tr>\n",
       "      <th>2002-06-28</th>\n",
       "      <td>0.442105</td>\n",
       "      <td>1.87500</td>\n",
       "    </tr>\n",
       "    <tr>\n",
       "      <th>2002-07-31</th>\n",
       "      <td>0.250000</td>\n",
       "      <td>1.55537</td>\n",
       "    </tr>\n",
       "    <tr>\n",
       "      <th>2002-08-30</th>\n",
       "      <td>0.250000</td>\n",
       "      <td>1.62500</td>\n",
       "    </tr>\n",
       "    <tr>\n",
       "      <th>2002-09-30</th>\n",
       "      <td>0.227160</td>\n",
       "      <td>1.75000</td>\n",
       "    </tr>\n",
       "    <tr>\n",
       "      <th>2002-10-31</th>\n",
       "      <td>0.189690</td>\n",
       "      <td>1.39574</td>\n",
       "    </tr>\n",
       "    <tr>\n",
       "      <th>...</th>\n",
       "      <td>...</td>\n",
       "      <td>...</td>\n",
       "    </tr>\n",
       "    <tr>\n",
       "      <th>2012-03-30</th>\n",
       "      <td>0.104045</td>\n",
       "      <td>3.44536</td>\n",
       "    </tr>\n",
       "    <tr>\n",
       "      <th>2012-04-30</th>\n",
       "      <td>0.099750</td>\n",
       "      <td>3.43792</td>\n",
       "    </tr>\n",
       "    <tr>\n",
       "      <th>2012-05-31</th>\n",
       "      <td>0.108170</td>\n",
       "      <td>3.59560</td>\n",
       "    </tr>\n",
       "    <tr>\n",
       "      <th>2012-06-29</th>\n",
       "      <td>0.109820</td>\n",
       "      <td>3.91192</td>\n",
       "    </tr>\n",
       "    <tr>\n",
       "      <th>2012-07-31</th>\n",
       "      <td>0.099295</td>\n",
       "      <td>4.19535</td>\n",
       "    </tr>\n",
       "  </tbody>\n",
       "</table>\n",
       "<p>122 rows × 2 columns</p>\n",
       "</div>"
      ],
      "text/plain": [
       "                 0.5      0.9\n",
       "caldt                        \n",
       "2002-06-28  0.442105  1.87500\n",
       "2002-07-31  0.250000  1.55537\n",
       "2002-08-30  0.250000  1.62500\n",
       "2002-09-30  0.227160  1.75000\n",
       "2002-10-31  0.189690  1.39574\n",
       "...              ...      ...\n",
       "2012-03-30  0.104045  3.44536\n",
       "2012-04-30  0.099750  3.43792\n",
       "2012-05-31  0.108170  3.59560\n",
       "2012-06-29  0.109820  3.91192\n",
       "2012-07-31  0.099295  4.19535\n",
       "\n",
       "[122 rows x 2 columns]"
      ]
     },
     "execution_count": 6,
     "metadata": {},
     "output_type": "execute_result"
    }
   ],
   "source": [
    "percentiles = [.5, .9]\n",
    "# Do you want for every month for every year? Or just across the months?\n",
    "df.groupby(\"caldt\")[\"feelag\"].quantile(percentiles).unstack()"
   ]
  },
  {
   "cell_type": "markdown",
   "metadata": {},
   "source": [
    "Construct three equal-weight portfolios using feelag a the criterion variable. Portfolio 0: an equal-weight portfolio the includes all stocks with feelag less than or equal to 3% (loan fee are express as the interest rate per anum). Portfolio 1: an equal-weight portfolio the includes all stocks with feelag greater than 3% and less than or eqal to 5%. Portfolio 2: an equal-weight portfolio the includes stocks with feelag greater than 5% (loan fee are express as the interest rate per anum). Hint: use the pd.cut to bin the data and use my Jupyter notebook from last class as a guide."
   ]
  },
  {
   "cell_type": "code",
   "execution_count": 7,
   "metadata": {},
   "outputs": [
    {
     "data": {
      "text/plain": [
       "count    419165.000000\n",
       "mean          0.131717\n",
       "std           0.458930\n",
       "min           0.000000\n",
       "25%           0.000000\n",
       "50%           0.000000\n",
       "75%           0.000000\n",
       "max           2.000000\n",
       "Name: bins, dtype: float64"
      ]
     },
     "execution_count": 7,
     "metadata": {},
     "output_type": "execute_result"
    }
   ],
   "source": [
    "df['bins'] = pd.cut(df['feelag'],[0,3,5,100],labels=False)\n",
    "df.bins.describe()"
   ]
  },
  {
   "cell_type": "markdown",
   "metadata": {},
   "source": [
    "Compute summary statistics for each of the portfolios you created including the mean, standard deviation, and t-statistics testing of the mean return of the portfolio is zero."
   ]
  },
  {
   "cell_type": "code",
   "execution_count": 8,
   "metadata": {},
   "outputs": [
    {
     "data": {
      "text/html": [
       "<div>\n",
       "<style scoped>\n",
       "    .dataframe tbody tr th:only-of-type {\n",
       "        vertical-align: middle;\n",
       "    }\n",
       "\n",
       "    .dataframe tbody tr th {\n",
       "        vertical-align: top;\n",
       "    }\n",
       "\n",
       "    .dataframe thead th {\n",
       "        text-align: right;\n",
       "    }\n",
       "</style>\n",
       "<table border=\"1\" class=\"dataframe\">\n",
       "  <thead>\n",
       "    <tr style=\"text-align: right;\">\n",
       "      <th>bins</th>\n",
       "      <th>0.0</th>\n",
       "      <th>1.0</th>\n",
       "      <th>2.0</th>\n",
       "    </tr>\n",
       "  </thead>\n",
       "  <tbody>\n",
       "    <tr>\n",
       "      <th>count</th>\n",
       "      <td>122.000</td>\n",
       "      <td>122.000</td>\n",
       "      <td>122.000</td>\n",
       "    </tr>\n",
       "    <tr>\n",
       "      <th>mean</th>\n",
       "      <td>0.972</td>\n",
       "      <td>-0.128</td>\n",
       "      <td>-0.766</td>\n",
       "    </tr>\n",
       "    <tr>\n",
       "      <th>std</th>\n",
       "      <td>6.548</td>\n",
       "      <td>9.464</td>\n",
       "      <td>9.395</td>\n",
       "    </tr>\n",
       "    <tr>\n",
       "      <th>tstat</th>\n",
       "      <td>1.639</td>\n",
       "      <td>-0.150</td>\n",
       "      <td>-0.900</td>\n",
       "    </tr>\n",
       "  </tbody>\n",
       "</table>\n",
       "</div>"
      ],
      "text/plain": [
       "bins       0.0      1.0      2.0\n",
       "count  122.000  122.000  122.000\n",
       "mean     0.972   -0.128   -0.766\n",
       "std      6.548    9.464    9.395\n",
       "tstat    1.639   -0.150   -0.900"
      ]
     },
     "execution_count": 8,
     "metadata": {},
     "output_type": "execute_result"
    }
   ],
   "source": [
    "port = df.groupby(['caldt','bins'])['ret'].mean()*100\n",
    "port = port.unstack(level = \"bins\")\n",
    "summary(port).loc[[\"count\",\"mean\", \"std\", \"tstat\"]].round(3)"
   ]
  },
  {
   "cell_type": "markdown",
   "metadata": {},
   "source": [
    "Are your results consistent with the hypothesis that short sellers have good information?"
   ]
  },
  {
   "cell_type": "markdown",
   "metadata": {},
   "source": [
    "We hypothesized that if short sellers were willing to pay high fees, they must have good information. Our findings are not consistent with this hypothesis; our bin labeled \"2.0\" represents the short sellers' transactions with the highest fees. The standard deviations of each bin is highly inflated relative to the return; hence, we would be unable to reject the null hypothesis that shortsellers have a return other than 0 on average."
   ]
  },
  {
   "cell_type": "markdown",
   "metadata": {},
   "source": [
    "# Spread Portfolio\n",
    "`100% in Low - 100% in High`"
   ]
  },
  {
   "cell_type": "code",
   "execution_count": 13,
   "metadata": {},
   "outputs": [
    {
     "data": {
      "text/html": [
       "<div>\n",
       "<style scoped>\n",
       "    .dataframe tbody tr th:only-of-type {\n",
       "        vertical-align: middle;\n",
       "    }\n",
       "\n",
       "    .dataframe tbody tr th {\n",
       "        vertical-align: top;\n",
       "    }\n",
       "\n",
       "    .dataframe thead th {\n",
       "        text-align: right;\n",
       "    }\n",
       "</style>\n",
       "<table border=\"1\" class=\"dataframe\">\n",
       "  <thead>\n",
       "    <tr style=\"text-align: right;\">\n",
       "      <th>bins</th>\n",
       "      <th>0.0</th>\n",
       "      <th>1.0</th>\n",
       "      <th>2.0</th>\n",
       "      <th>spread</th>\n",
       "    </tr>\n",
       "  </thead>\n",
       "  <tbody>\n",
       "    <tr>\n",
       "      <th>count</th>\n",
       "      <td>122.000</td>\n",
       "      <td>122.000</td>\n",
       "      <td>122.000</td>\n",
       "      <td>122.000</td>\n",
       "    </tr>\n",
       "    <tr>\n",
       "      <th>mean</th>\n",
       "      <td>0.972</td>\n",
       "      <td>-0.128</td>\n",
       "      <td>-0.766</td>\n",
       "      <td>1.737</td>\n",
       "    </tr>\n",
       "    <tr>\n",
       "      <th>std</th>\n",
       "      <td>6.548</td>\n",
       "      <td>9.464</td>\n",
       "      <td>9.395</td>\n",
       "      <td>5.394</td>\n",
       "    </tr>\n",
       "    <tr>\n",
       "      <th>tstat</th>\n",
       "      <td>1.639</td>\n",
       "      <td>-0.150</td>\n",
       "      <td>-0.900</td>\n",
       "      <td>3.558</td>\n",
       "    </tr>\n",
       "  </tbody>\n",
       "</table>\n",
       "</div>"
      ],
      "text/plain": [
       "bins       0.0      1.0      2.0   spread\n",
       "count  122.000  122.000  122.000  122.000\n",
       "mean     0.972   -0.128   -0.766    1.737\n",
       "std      6.548    9.464    9.395    5.394\n",
       "tstat    1.639   -0.150   -0.900    3.558"
      ]
     },
     "execution_count": 13,
     "metadata": {},
     "output_type": "execute_result"
    }
   ],
   "source": [
    "port[\"spread\"] = port[0.0] - port[2.0]\n",
    "summary(port).loc[[\"count\",\"mean\", \"std\", \"tstat\"]].round(3)"
   ]
  },
  {
   "cell_type": "markdown",
   "metadata": {},
   "source": [
    "We see the spread is meaningfully different than zero; so we can construct this portfolio for a return"
   ]
  }
 ],
 "metadata": {
  "kernelspec": {
   "display_name": "Python 3 (ipykernel)",
   "language": "python",
   "name": "python3"
  },
  "language_info": {
   "codemirror_mode": {
    "name": "ipython",
    "version": 3
   },
   "file_extension": ".py",
   "mimetype": "text/x-python",
   "name": "python",
   "nbconvert_exporter": "python",
   "pygments_lexer": "ipython3",
   "version": "3.9.16"
  }
 },
 "nbformat": 4,
 "nbformat_minor": 4
}
